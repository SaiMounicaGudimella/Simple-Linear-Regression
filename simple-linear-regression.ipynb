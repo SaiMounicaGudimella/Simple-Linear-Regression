{
 "cells": [
  {
   "cell_type": "markdown",
   "id": "f1d789c8",
   "metadata": {
    "papermill": {
     "duration": 0.006827,
     "end_time": "2024-09-05T18:54:29.311041",
     "exception": false,
     "start_time": "2024-09-05T18:54:29.304214",
     "status": "completed"
    },
    "tags": []
   },
   "source": [
    "### This will be an implementation of Simple Linear Regression using the fundamental steps. \n",
    "### We will be using a simple dataset of 7 rows, with only two columns, one as dependent variable and the other as independent variable."
   ]
  },
  {
   "cell_type": "code",
   "execution_count": 1,
   "id": "b38414e2",
   "metadata": {
    "_cell_guid": "b1076dfc-b9ad-4769-8c92-a6c4dae69d19",
    "_uuid": "8f2839f25d086af736a60e9eeb907d3b93b6e0e5",
    "execution": {
     "iopub.execute_input": "2024-09-05T18:54:29.325619Z",
     "iopub.status.busy": "2024-09-05T18:54:29.324870Z",
     "iopub.status.idle": "2024-09-05T18:54:29.764652Z",
     "shell.execute_reply": "2024-09-05T18:54:29.763562Z"
    },
    "papermill": {
     "duration": 0.450667,
     "end_time": "2024-09-05T18:54:29.767374",
     "exception": false,
     "start_time": "2024-09-05T18:54:29.316707",
     "status": "completed"
    },
    "tags": []
   },
   "outputs": [
    {
     "name": "stdout",
     "output_type": "stream",
     "text": [
      "/kaggle/input/insurance-dataset-simple-linear-regression/simplelinearregression.csv\n"
     ]
    }
   ],
   "source": [
    "import numpy as np # linear algebra\n",
    "import pandas as pd # data processing, CSV file I/O (e.g. pd.read_csv)\n",
    "\n",
    "import os\n",
    "for dirname, _, filenames in os.walk('/kaggle/input'):\n",
    "    for filename in filenames:\n",
    "        print(os.path.join(dirname, filename))"
   ]
  },
  {
   "cell_type": "code",
   "execution_count": 2,
   "id": "7fdecab4",
   "metadata": {
    "execution": {
     "iopub.execute_input": "2024-09-05T18:54:29.780201Z",
     "iopub.status.busy": "2024-09-05T18:54:29.779633Z",
     "iopub.status.idle": "2024-09-05T18:54:29.818144Z",
     "shell.execute_reply": "2024-09-05T18:54:29.817049Z"
    },
    "papermill": {
     "duration": 0.048033,
     "end_time": "2024-09-05T18:54:29.820981",
     "exception": false,
     "start_time": "2024-09-05T18:54:29.772948",
     "status": "completed"
    },
    "tags": []
   },
   "outputs": [
    {
     "data": {
      "text/html": [
       "<div>\n",
       "<style scoped>\n",
       "    .dataframe tbody tr th:only-of-type {\n",
       "        vertical-align: middle;\n",
       "    }\n",
       "\n",
       "    .dataframe tbody tr th {\n",
       "        vertical-align: top;\n",
       "    }\n",
       "\n",
       "    .dataframe thead th {\n",
       "        text-align: right;\n",
       "    }\n",
       "</style>\n",
       "<table border=\"1\" class=\"dataframe\">\n",
       "  <thead>\n",
       "    <tr style=\"text-align: right;\">\n",
       "      <th></th>\n",
       "      <th>Age</th>\n",
       "      <th>Premium</th>\n",
       "    </tr>\n",
       "  </thead>\n",
       "  <tbody>\n",
       "    <tr>\n",
       "      <th>0</th>\n",
       "      <td>18</td>\n",
       "      <td>10000</td>\n",
       "    </tr>\n",
       "    <tr>\n",
       "      <th>1</th>\n",
       "      <td>22</td>\n",
       "      <td>15000</td>\n",
       "    </tr>\n",
       "    <tr>\n",
       "      <th>2</th>\n",
       "      <td>23</td>\n",
       "      <td>18000</td>\n",
       "    </tr>\n",
       "    <tr>\n",
       "      <th>3</th>\n",
       "      <td>26</td>\n",
       "      <td>21000</td>\n",
       "    </tr>\n",
       "    <tr>\n",
       "      <th>4</th>\n",
       "      <td>28</td>\n",
       "      <td>24000</td>\n",
       "    </tr>\n",
       "  </tbody>\n",
       "</table>\n",
       "</div>"
      ],
      "text/plain": [
       "   Age  Premium\n",
       "0   18    10000\n",
       "1   22    15000\n",
       "2   23    18000\n",
       "3   26    21000\n",
       "4   28    24000"
      ]
     },
     "execution_count": 2,
     "metadata": {},
     "output_type": "execute_result"
    }
   ],
   "source": [
    "insurance_data = pd.read_csv('/kaggle/input/insurance-dataset-simple-linear-regression/simplelinearregression.csv')\n",
    "insurance_data.head()"
   ]
  },
  {
   "cell_type": "code",
   "execution_count": 3,
   "id": "7598dcd1",
   "metadata": {
    "execution": {
     "iopub.execute_input": "2024-09-05T18:54:29.834067Z",
     "iopub.status.busy": "2024-09-05T18:54:29.833653Z",
     "iopub.status.idle": "2024-09-05T18:54:29.862980Z",
     "shell.execute_reply": "2024-09-05T18:54:29.861694Z"
    },
    "papermill": {
     "duration": 0.038653,
     "end_time": "2024-09-05T18:54:29.865382",
     "exception": false,
     "start_time": "2024-09-05T18:54:29.826729",
     "status": "completed"
    },
    "tags": []
   },
   "outputs": [
    {
     "name": "stdout",
     "output_type": "stream",
     "text": [
      "<class 'pandas.core.frame.DataFrame'>\n",
      "RangeIndex: 7 entries, 0 to 6\n",
      "Data columns (total 2 columns):\n",
      " #   Column   Non-Null Count  Dtype\n",
      "---  ------   --------------  -----\n",
      " 0   Age      7 non-null      int64\n",
      " 1   Premium  7 non-null      int64\n",
      "dtypes: int64(2)\n",
      "memory usage: 240.0 bytes\n"
     ]
    }
   ],
   "source": [
    "insurance_data.info()"
   ]
  },
  {
   "cell_type": "code",
   "execution_count": 4,
   "id": "96b0df0d",
   "metadata": {
    "execution": {
     "iopub.execute_input": "2024-09-05T18:54:29.880053Z",
     "iopub.status.busy": "2024-09-05T18:54:29.879617Z",
     "iopub.status.idle": "2024-09-05T18:54:29.902846Z",
     "shell.execute_reply": "2024-09-05T18:54:29.901606Z"
    },
    "papermill": {
     "duration": 0.034102,
     "end_time": "2024-09-05T18:54:29.905431",
     "exception": false,
     "start_time": "2024-09-05T18:54:29.871329",
     "status": "completed"
    },
    "tags": []
   },
   "outputs": [
    {
     "data": {
      "text/html": [
       "<div>\n",
       "<style scoped>\n",
       "    .dataframe tbody tr th:only-of-type {\n",
       "        vertical-align: middle;\n",
       "    }\n",
       "\n",
       "    .dataframe tbody tr th {\n",
       "        vertical-align: top;\n",
       "    }\n",
       "\n",
       "    .dataframe thead th {\n",
       "        text-align: right;\n",
       "    }\n",
       "</style>\n",
       "<table border=\"1\" class=\"dataframe\">\n",
       "  <thead>\n",
       "    <tr style=\"text-align: right;\">\n",
       "      <th></th>\n",
       "      <th>Age</th>\n",
       "      <th>Premium</th>\n",
       "    </tr>\n",
       "  </thead>\n",
       "  <tbody>\n",
       "    <tr>\n",
       "      <th>count</th>\n",
       "      <td>7.000000</td>\n",
       "      <td>7.000000</td>\n",
       "    </tr>\n",
       "    <tr>\n",
       "      <th>mean</th>\n",
       "      <td>25.857143</td>\n",
       "      <td>20214.285714</td>\n",
       "    </tr>\n",
       "    <tr>\n",
       "      <th>std</th>\n",
       "      <td>5.273474</td>\n",
       "      <td>6283.955382</td>\n",
       "    </tr>\n",
       "    <tr>\n",
       "      <th>min</th>\n",
       "      <td>18.000000</td>\n",
       "      <td>10000.000000</td>\n",
       "    </tr>\n",
       "    <tr>\n",
       "      <th>25%</th>\n",
       "      <td>22.500000</td>\n",
       "      <td>16500.000000</td>\n",
       "    </tr>\n",
       "    <tr>\n",
       "      <th>50%</th>\n",
       "      <td>26.000000</td>\n",
       "      <td>21000.000000</td>\n",
       "    </tr>\n",
       "    <tr>\n",
       "      <th>75%</th>\n",
       "      <td>29.500000</td>\n",
       "      <td>25250.000000</td>\n",
       "    </tr>\n",
       "    <tr>\n",
       "      <th>max</th>\n",
       "      <td>33.000000</td>\n",
       "      <td>27000.000000</td>\n",
       "    </tr>\n",
       "  </tbody>\n",
       "</table>\n",
       "</div>"
      ],
      "text/plain": [
       "             Age       Premium\n",
       "count   7.000000      7.000000\n",
       "mean   25.857143  20214.285714\n",
       "std     5.273474   6283.955382\n",
       "min    18.000000  10000.000000\n",
       "25%    22.500000  16500.000000\n",
       "50%    26.000000  21000.000000\n",
       "75%    29.500000  25250.000000\n",
       "max    33.000000  27000.000000"
      ]
     },
     "execution_count": 4,
     "metadata": {},
     "output_type": "execute_result"
    }
   ],
   "source": [
    "insurance_data.describe()"
   ]
  },
  {
   "cell_type": "code",
   "execution_count": 5,
   "id": "180f446c",
   "metadata": {
    "execution": {
     "iopub.execute_input": "2024-09-05T18:54:29.918943Z",
     "iopub.status.busy": "2024-09-05T18:54:29.918563Z",
     "iopub.status.idle": "2024-09-05T18:54:29.923927Z",
     "shell.execute_reply": "2024-09-05T18:54:29.922534Z"
    },
    "papermill": {
     "duration": 0.015098,
     "end_time": "2024-09-05T18:54:29.926540",
     "exception": false,
     "start_time": "2024-09-05T18:54:29.911442",
     "status": "completed"
    },
    "tags": []
   },
   "outputs": [],
   "source": [
    "X = insurance_data.Age.values\n",
    "Y = insurance_data.Premium.values"
   ]
  },
  {
   "cell_type": "code",
   "execution_count": 6,
   "id": "25fbd7bf",
   "metadata": {
    "execution": {
     "iopub.execute_input": "2024-09-05T18:54:29.940116Z",
     "iopub.status.busy": "2024-09-05T18:54:29.939706Z",
     "iopub.status.idle": "2024-09-05T18:54:29.947545Z",
     "shell.execute_reply": "2024-09-05T18:54:29.946053Z"
    },
    "papermill": {
     "duration": 0.018404,
     "end_time": "2024-09-05T18:54:29.950887",
     "exception": false,
     "start_time": "2024-09-05T18:54:29.932483",
     "status": "completed"
    },
    "tags": []
   },
   "outputs": [
    {
     "data": {
      "text/plain": [
       "array([18, 22, 23, 26, 28, 31, 33])"
      ]
     },
     "execution_count": 6,
     "metadata": {},
     "output_type": "execute_result"
    }
   ],
   "source": [
    "X"
   ]
  },
  {
   "cell_type": "code",
   "execution_count": 7,
   "id": "d53e7b9e",
   "metadata": {
    "execution": {
     "iopub.execute_input": "2024-09-05T18:54:29.971419Z",
     "iopub.status.busy": "2024-09-05T18:54:29.969879Z",
     "iopub.status.idle": "2024-09-05T18:54:30.320772Z",
     "shell.execute_reply": "2024-09-05T18:54:30.319607Z"
    },
    "papermill": {
     "duration": 0.363318,
     "end_time": "2024-09-05T18:54:30.323872",
     "exception": false,
     "start_time": "2024-09-05T18:54:29.960554",
     "status": "completed"
    },
    "tags": []
   },
   "outputs": [
    {
     "data": {
      "image/png": "[encoded data removed]",
      "text/plain": [
       "<Figure size 640x480 with 1 Axes>"
      ]
     },
     "metadata": {},
     "output_type": "display_data"
    }
   ],
   "source": [
    "from matplotlib import pyplot as plt\n",
    "plt.scatter(X,Y)\n",
    "plt.title(\"Age vs Premium scatterplot\")\n",
    "plt.xlabel(\"Age\")\n",
    "plt.ylabel(\"Premium\")\n",
    "plt.show()"
   ]
  },
  {
   "cell_type": "code",
   "execution_count": 8,
   "id": "e7d8387b",
   "metadata": {
    "execution": {
     "iopub.execute_input": "2024-09-05T18:54:30.342240Z",
     "iopub.status.busy": "2024-09-05T18:54:30.341712Z",
     "iopub.status.idle": "2024-09-05T18:54:30.348710Z",
     "shell.execute_reply": "2024-09-05T18:54:30.347378Z"
    },
    "papermill": {
     "duration": 0.017955,
     "end_time": "2024-09-05T18:54:30.351030",
     "exception": false,
     "start_time": "2024-09-05T18:54:30.333075",
     "status": "completed"
    },
    "tags": []
   },
   "outputs": [
    {
     "name": "stdout",
     "output_type": "stream",
     "text": [
      "(7,)\n",
      "(7,)\n"
     ]
    }
   ],
   "source": [
    "print(X.shape)\n",
    "print(Y.shape)"
   ]
  },
  {
   "cell_type": "code",
   "execution_count": 9,
   "id": "edef473e",
   "metadata": {
    "execution": {
     "iopub.execute_input": "2024-09-05T18:54:30.370705Z",
     "iopub.status.busy": "2024-09-05T18:54:30.369915Z",
     "iopub.status.idle": "2024-09-05T18:54:30.375264Z",
     "shell.execute_reply": "2024-09-05T18:54:30.374029Z"
    },
    "papermill": {
     "duration": 0.018649,
     "end_time": "2024-09-05T18:54:30.378088",
     "exception": false,
     "start_time": "2024-09-05T18:54:30.359439",
     "status": "completed"
    },
    "tags": []
   },
   "outputs": [],
   "source": [
    "X = X.reshape(-1,1)\n",
    "Y = Y.reshape(-1,1)"
   ]
  },
  {
   "cell_type": "code",
   "execution_count": 10,
   "id": "60cc2db5",
   "metadata": {
    "execution": {
     "iopub.execute_input": "2024-09-05T18:54:30.398884Z",
     "iopub.status.busy": "2024-09-05T18:54:30.398462Z",
     "iopub.status.idle": "2024-09-05T18:54:32.192184Z",
     "shell.execute_reply": "2024-09-05T18:54:32.190790Z"
    },
    "papermill": {
     "duration": 1.807705,
     "end_time": "2024-09-05T18:54:32.195366",
     "exception": false,
     "start_time": "2024-09-05T18:54:30.387661",
     "status": "completed"
    },
    "tags": []
   },
   "outputs": [],
   "source": [
    "#Train and test split\n",
    "\n",
    "from sklearn.model_selection import train_test_split\n",
    "\n",
    "X_train, X_test, Y_train, Y_test = train_test_split(X, Y, test_size=0.3, random_state = 100)"
   ]
  },
  {
   "cell_type": "code",
   "execution_count": 11,
   "id": "23f2a7cb",
   "metadata": {
    "execution": {
     "iopub.execute_input": "2024-09-05T18:54:32.212151Z",
     "iopub.status.busy": "2024-09-05T18:54:32.210809Z",
     "iopub.status.idle": "2024-09-05T18:54:32.217484Z",
     "shell.execute_reply": "2024-09-05T18:54:32.216238Z"
    },
    "papermill": {
     "duration": 0.018429,
     "end_time": "2024-09-05T18:54:32.220580",
     "exception": false,
     "start_time": "2024-09-05T18:54:32.202151",
     "status": "completed"
    },
    "tags": []
   },
   "outputs": [
    {
     "name": "stdout",
     "output_type": "stream",
     "text": [
      "(4, 1)\n",
      "(3, 1)\n",
      "(4, 1)\n",
      "(3, 1)\n"
     ]
    }
   ],
   "source": [
    "print(X_train.shape)\n",
    "print(X_test.shape)\n",
    "print(Y_train.shape)\n",
    "print(Y_test.shape)"
   ]
  },
  {
   "cell_type": "code",
   "execution_count": 12,
   "id": "942b3e1e",
   "metadata": {
    "execution": {
     "iopub.execute_input": "2024-09-05T18:54:32.235472Z",
     "iopub.status.busy": "2024-09-05T18:54:32.235065Z",
     "iopub.status.idle": "2024-09-05T18:54:32.370692Z",
     "shell.execute_reply": "2024-09-05T18:54:32.369662Z"
    },
    "papermill": {
     "duration": 0.146231,
     "end_time": "2024-09-05T18:54:32.373403",
     "exception": false,
     "start_time": "2024-09-05T18:54:32.227172",
     "status": "completed"
    },
    "tags": []
   },
   "outputs": [],
   "source": [
    "#Train and fit the model\n",
    "\n",
    "from sklearn.linear_model import LinearRegression\n",
    "lr = LinearRegression()\n",
    "\n",
    "insurance_lr_model = lr.fit(X_train,Y_train)"
   ]
  },
  {
   "cell_type": "code",
   "execution_count": 13,
   "id": "4df43407",
   "metadata": {
    "execution": {
     "iopub.execute_input": "2024-09-05T18:54:32.388180Z",
     "iopub.status.busy": "2024-09-05T18:54:32.387758Z",
     "iopub.status.idle": "2024-09-05T18:54:32.395983Z",
     "shell.execute_reply": "2024-09-05T18:54:32.394833Z"
    },
    "papermill": {
     "duration": 0.018491,
     "end_time": "2024-09-05T18:54:32.398443",
     "exception": false,
     "start_time": "2024-09-05T18:54:32.379952",
     "status": "completed"
    },
    "tags": []
   },
   "outputs": [
    {
     "data": {
      "text/plain": [
       "array([[15531.04925054],\n",
       "       [16700.21413276],\n",
       "       [26053.53319058]])"
      ]
     },
     "execution_count": 13,
     "metadata": {},
     "output_type": "execute_result"
    }
   ],
   "source": [
    "#Predit the model\n",
    "\n",
    "y_pred = insurance_lr_model.predict(X_test)\n",
    "y_pred"
   ]
  },
  {
   "cell_type": "code",
   "execution_count": 14,
   "id": "5b9095aa",
   "metadata": {
    "execution": {
     "iopub.execute_input": "2024-09-05T18:54:32.413661Z",
     "iopub.status.busy": "2024-09-05T18:54:32.413263Z",
     "iopub.status.idle": "2024-09-05T18:54:32.420625Z",
     "shell.execute_reply": "2024-09-05T18:54:32.419388Z"
    },
    "papermill": {
     "duration": 0.017471,
     "end_time": "2024-09-05T18:54:32.422962",
     "exception": false,
     "start_time": "2024-09-05T18:54:32.405491",
     "status": "completed"
    },
    "tags": []
   },
   "outputs": [
    {
     "data": {
      "text/plain": [
       "array([[15000],\n",
       "       [18000],\n",
       "       [26500]])"
      ]
     },
     "execution_count": 14,
     "metadata": {},
     "output_type": "execute_result"
    }
   ],
   "source": [
    "Y_test"
   ]
  },
  {
   "cell_type": "code",
   "execution_count": 15,
   "id": "eae851af",
   "metadata": {
    "execution": {
     "iopub.execute_input": "2024-09-05T18:54:32.438149Z",
     "iopub.status.busy": "2024-09-05T18:54:32.437727Z",
     "iopub.status.idle": "2024-09-05T18:54:32.443922Z",
     "shell.execute_reply": "2024-09-05T18:54:32.442746Z"
    },
    "papermill": {
     "duration": 0.016369,
     "end_time": "2024-09-05T18:54:32.446088",
     "exception": false,
     "start_time": "2024-09-05T18:54:32.429719",
     "status": "completed"
    },
    "tags": []
   },
   "outputs": [
    {
     "name": "stdout",
     "output_type": "stream",
     "text": [
      "[[1169.16488223]]\n",
      "[-10190.57815846]\n"
     ]
    }
   ],
   "source": [
    "print(lr.coef_)\n",
    "print(lr.intercept_)"
   ]
  },
  {
   "cell_type": "markdown",
   "id": "7c3b33e1",
   "metadata": {
    "papermill": {
     "duration": 0.007207,
     "end_time": "2024-09-05T18:54:32.460137",
     "exception": false,
     "start_time": "2024-09-05T18:54:32.452930",
     "status": "completed"
    },
    "tags": []
   },
   "source": [
    "### Equation of fitted regression line is Y= 1169.164 * X - 10190.57"
   ]
  },
  {
   "cell_type": "code",
   "execution_count": 16,
   "id": "9901bbc8",
   "metadata": {
    "execution": {
     "iopub.execute_input": "2024-09-05T18:54:32.476026Z",
     "iopub.status.busy": "2024-09-05T18:54:32.475578Z",
     "iopub.status.idle": "2024-09-05T18:54:32.482697Z",
     "shell.execute_reply": "2024-09-05T18:54:32.481335Z"
    },
    "papermill": {
     "duration": 0.018184,
     "end_time": "2024-09-05T18:54:32.485232",
     "exception": false,
     "start_time": "2024-09-05T18:54:32.467048",
     "status": "completed"
    },
    "tags": []
   },
   "outputs": [
    {
     "name": "stdout",
     "output_type": "stream",
     "text": [
      "[[10854.38972163]\n",
      " [15531.04925054]\n",
      " [16700.21413276]\n",
      " [20207.70877944]\n",
      " [22546.0385439 ]\n",
      " [26053.53319058]\n",
      " [28391.86295503]]\n"
     ]
    }
   ],
   "source": [
    "#Predicting all the Insurance values in the dataset\n",
    "print(lr.predict(X))"
   ]
  },
  {
   "cell_type": "code",
   "execution_count": 17,
   "id": "1f85ea9f",
   "metadata": {
    "execution": {
     "iopub.execute_input": "2024-09-05T18:54:32.500958Z",
     "iopub.status.busy": "2024-09-05T18:54:32.500504Z",
     "iopub.status.idle": "2024-09-05T18:54:32.826833Z",
     "shell.execute_reply": "2024-09-05T18:54:32.825594Z"
    },
    "papermill": {
     "duration": 0.337191,
     "end_time": "2024-09-05T18:54:32.829367",
     "exception": false,
     "start_time": "2024-09-05T18:54:32.492176",
     "status": "completed"
    },
    "tags": []
   },
   "outputs": [
    {
     "data": {
      "image/png": "[encoded data removed]",
      "text/plain": [
       "<Figure size 640x480 with 1 Axes>"
      ]
     },
     "metadata": {},
     "output_type": "display_data"
    }
   ],
   "source": [
    "plt.scatter(X, Y, color = 'blue', label='Scatter Plot')\n",
    "plt.plot(X_test, y_pred, color = 'black', linewidth=3, label = 'Regression Line')\n",
    "plt.title('Relationship between Sales and Advertising')\n",
    "plt.xlabel('Sales')\n",
    "plt.ylabel('Advertising')\n",
    "plt.legend(loc=4)\n",
    "plt.show()"
   ]
  },
  {
   "cell_type": "code",
   "execution_count": 18,
   "id": "dc29c64d",
   "metadata": {
    "execution": {
     "iopub.execute_input": "2024-09-05T18:54:32.846567Z",
     "iopub.status.busy": "2024-09-05T18:54:32.846127Z",
     "iopub.status.idle": "2024-09-05T18:54:32.854823Z",
     "shell.execute_reply": "2024-09-05T18:54:32.853414Z"
    },
    "papermill": {
     "duration": 0.020066,
     "end_time": "2024-09-05T18:54:32.857347",
     "exception": false,
     "start_time": "2024-09-05T18:54:32.837281",
     "status": "completed"
    },
    "tags": []
   },
   "outputs": [
    {
     "name": "stdout",
     "output_type": "stream",
     "text": [
      "RMSE value: 850.6447\n",
      "R2 Score: 0.9695\n"
     ]
    }
   ],
   "source": [
    "#Calculate model performance\n",
    "\n",
    "from sklearn.metrics import mean_squared_error,r2_score\n",
    "\n",
    "mse = mean_squared_error(Y_test, y_pred)\n",
    "rmse = np.sqrt(mse)\n",
    "print(\"RMSE value: {:.4f}\".format(rmse))\n",
    "\n",
    "print(\"R2 Score: {:.4f}\".format(r2_score(Y_test, y_pred)))\n"
   ]
  },
  {
   "cell_type": "markdown",
   "id": "5e0aff82",
   "metadata": {
    "papermill": {
     "duration": 0.007045,
     "end_time": "2024-09-05T18:54:32.871821",
     "exception": false,
     "start_time": "2024-09-05T18:54:32.864776",
     "status": "completed"
    },
    "tags": []
   },
   "source": [
    "### Model Interpretation\n",
    "\n",
    "##### RMSE explains the deviation of the residuals which means the actual value of Insurance lies between + or - 850 to the predicted value. Lower this number signifies more stable the model is.\n",
    "\n",
    "##### R2 is the coefficient of determination. Its value lies between 0 and 1. Since the value is 0.96, it signifies the model is able to predict closer to the actual values.\n",
    "\n",
    "##### However, this is a small dataset, only for running the mechanism of Linear regression. Real world application has large amount of data unlike this example."
   ]
  }
 ],
 "metadata": {
  "kaggle": {
   "accelerator": "none",
   "dataSources": [
    {
     "datasetId": 3737036,
     "sourceId": 6470374,
     "sourceType": "datasetVersion"
    }
   ],
   "dockerImageVersionId": 30761,
   "isGpuEnabled": false,
   "isInternetEnabled": true,
   "language": "python",
   "sourceType": "notebook"
  },
  "kernelspec": {
   "display_name": "Python 3",
   "language": "python",
   "name": "python3"
  },
  "language_info": {
   "codemirror_mode": {
    "name": "ipython",
    "version": 3
   },
   "file_extension": ".py",
   "mimetype": "text/x-python",
   "name": "python",
   "nbconvert_exporter": "python",
   "pygments_lexer": "ipython3",
   "version": "3.10.14"
  },
  "papermill": {
   "default_parameters": {},
   "duration": 7.279977,
   "end_time": "2024-09-05T18:54:33.503375",
   "environment_variables": {},
   "exception": null,
   "input_path": "__notebook__.ipynb",
   "output_path": "__notebook__.ipynb",
   "parameters": {},
   "start_time": "2024-09-05T18:54:26.223398",
   "version": "2.6.0"
  }
 },
 "nbformat": 4,
 "nbformat_minor": 5
}
